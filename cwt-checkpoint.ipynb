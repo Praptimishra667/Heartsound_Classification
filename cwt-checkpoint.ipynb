{
 "cells": [
  {
   "cell_type": "markdown",
   "id": "7a74caf8-29c2-4349-b2b6-1b84a2d1c928",
   "metadata": {},
   "source": [
    "## CWT"
   ]
  },
  {
   "cell_type": "code",
   "execution_count": 2,
   "id": "ff8eb2a4-6029-4161-b4a6-69f43f2530dc",
   "metadata": {},
   "outputs": [],
   "source": [
    "import os\n",
    "import librosa\n",
    "import numpy as np\n",
    "import matplotlib.pyplot as plt\n",
    "import seaborn as sns\n",
    "import pandas as pd\n",
    "from scipy.signal import cwt, morlet\n",
    "from sklearn.ensemble import RandomForestClassifier\n",
    "from sklearn.model_selection import train_test_split\n",
    "from sklearn.preprocessing import StandardScaler\n",
    "from sklearn.metrics import classification_report\n"
   ]
  },
  {
   "cell_type": "code",
   "execution_count": 7,
   "id": "42692fda-672c-47bc-88fa-5a233e8fb5c2",
   "metadata": {},
   "outputs": [],
   "source": [
    "# Define paths\n",
    "base_dir = \"Data\"\n",
    "class_labels = ['AS', 'MR', 'MS', 'MVP', 'N']"
   ]
  },
  {
   "cell_type": "code",
   "execution_count": 8,
   "id": "ab57c206-8ba3-41d3-856d-f06b81bb704a",
   "metadata": {},
   "outputs": [],
   "source": [
    "# CWT Feature Extraction (using the magnitude of the complex values)\n",
    "def extract_cwt_features(file_path, sampling_rate=4000, widths=np.arange(1, 31)):\n",
    "    # Load the audio file\n",
    "    signal, sr = librosa.load(file_path, sr=sampling_rate)\n",
    "    \n",
    "    # Normalize the signal\n",
    "    signal = signal / np.max(np.abs(signal))\n",
    "    \n",
    "    # Perform Continuous Wavelet Transform using the Morlet wavelet\n",
    "    coefficients = cwt(signal, morlet, widths)\n",
    "    \n",
    "    # Use the magnitude (absolute value) of the complex CWT coefficients\n",
    "    coefficients_magnitude = np.abs(coefficients)\n",
    "    \n",
    "    # Extract statistical features from the magnitude of CWT coefficients (e.g., mean, variance, energy, entropy)\n",
    "    features = []\n",
    "    \n",
    "    for scale in coefficients_magnitude:\n",
    "        # Energy of the scale\n",
    "        scale_energy = np.sum(scale**2)\n",
    "        # Entropy of the scale\n",
    "        scale_entropy = -np.sum(scale * np.log(scale + 1e-10))\n",
    "        \n",
    "        # Append both energy and entropy as features\n",
    "        features.append([scale_energy, scale_entropy])\n",
    "    \n",
    "    # Flatten the feature array\n",
    "    features = np.array(features).flatten()\n",
    "    \n",
    "    return features\n",
    "\n"
   ]
  },
  {
   "cell_type": "code",
   "execution_count": 12,
   "id": "4a53c8b2-9362-4390-99b2-12f0f140696f",
   "metadata": {},
   "outputs": [],
   "source": [
    "# Process the dataset using CWT\n",
    "def process_dataset(base_dir, class_labels):\n",
    "    feature_list = []\n",
    "    label_list = []\n",
    "    \n",
    "    for label in class_labels:\n",
    "        folder_path = os.path.join(base_dir, label)\n",
    "        \n",
    "        # Iterate over all wav files in the folder\n",
    "        for file_name in os.listdir(folder_path):\n",
    "            if file_name.endswith('.wav'):\n",
    "                file_path = os.path.join(folder_path, file_name)\n",
    "                # print(f\"Processing: {file_path}\")\n",
    "                \n",
    "                # Extract CWT features\n",
    "                features = extract_cwt_features(file_path)\n",
    "                \n",
    "                # Append features and corresponding label\n",
    "                feature_list.append(features)\n",
    "                label_list.append(label)\n",
    "    \n",
    "    # Convert to numpy arrays\n",
    "    X = np.array(feature_list)\n",
    "    y = np.array(label_list)\n",
    "    \n",
    "    # Standardize features (ensure all data is real)\n",
    "    scaler = StandardScaler()\n",
    "    X = scaler.fit_transform(X)\n",
    "    \n",
    "    return X, y\n"
   ]
  },
  {
   "cell_type": "code",
   "execution_count": 13,
   "id": "8c258198-b5d4-4893-a6bf-470afac480c5",
   "metadata": {},
   "outputs": [],
   "source": [
    "# 1. Plot the raw heart sound waveform with a smaller figure size\n",
    "def plot_waveform(file_path, heart_sound_type, sampling_rate=4000):\n",
    "    signal, sr = librosa.load(file_path, sr=sampling_rate)\n",
    "    plt.figure(figsize=(6, 3))  # Smaller figure size\n",
    "    librosa.display.waveshow(signal, sr=sr)\n",
    "    plt.title(f'{heart_sound_type} - Heart Sound Waveform')\n",
    "    plt.xlabel('Time (s)')\n",
    "    plt.ylabel('Amplitude')\n",
    "    plt.tight_layout()\n",
    "    plt.show()\n",
    "\n",
    "# 2. Plot CWT coefficients (subbands) using subplots and smaller figure size\n",
    "def plot_cwt_subbands(file_path, heart_sound_type, sampling_rate=4000, widths=np.arange(1, 31)):\n",
    "    signal, sr = librosa.load(file_path, sr=sampling_rate)\n",
    "    \n",
    "    # Perform Continuous Wavelet Transform using the Morlet wavelet\n",
    "    coefficients = cwt(signal, morlet, widths)\n",
    "    \n",
    "    # Plot each scale (sub-band)\n",
    "    fig, axs = plt.subplots(len(widths), 1, figsize=(10, 17))  # Adjust size for subplots\n",
    "    for i, scale in enumerate(coefficients):\n",
    "        axs[i].plot(scale)\n",
    "        axs[i].set_title(f'{heart_sound_type} - CWT Sub-band - Scale {i + 1}')\n",
    "    \n",
    "    plt.tight_layout()  # Adjust layout to prevent overlap\n",
    "    plt.show()\n"
   ]
  },
  {
   "cell_type": "code",
   "execution_count": 15,
   "id": "7d71c9ff-286e-43d5-81c0-59aa999b532f",
   "metadata": {
    "scrolled": true
   },
   "outputs": [
    {
     "name": "stdout",
     "output_type": "stream",
     "text": [
      "              precision    recall  f1-score   support\n",
      "\n",
      "          AS       0.91      0.91      0.91        33\n",
      "          MR       0.93      0.88      0.90        48\n",
      "          MS       0.92      0.89      0.90        37\n",
      "         MVP       0.86      0.97      0.91        38\n",
      "           N       0.95      0.93      0.94        44\n",
      "\n",
      "    accuracy                           0.92       200\n",
      "   macro avg       0.91      0.92      0.91       200\n",
      "weighted avg       0.92      0.92      0.91       200\n",
      "\n"
     ]
    }
   ],
   "source": [
    "# Process the dataset\n",
    "X, y = process_dataset(base_dir, class_labels)\n",
    "\n",
    "\n",
    "# Split data into training and testing sets\n",
    "X_train, X_test, y_train, y_test = train_test_split(X, y, test_size=0.2, random_state=42)\n",
    "\n",
    "# Train Random Forest classifier\n",
    "clf = RandomForestClassifier(n_estimators=100, random_state=42)\n",
    "clf.fit(X_train, y_train)\n",
    "\n",
    "# Predict on test data\n",
    "y_pred = clf.predict(X_test)\n",
    "\n",
    "# Print classification report\n",
    "print(classification_report(y_test, y_pred))\n"
   ]
  },
  {
   "cell_type": "code",
   "execution_count": null,
   "id": "2803d60c-5d81-48ea-b522-4f8758d9e5b5",
   "metadata": {},
   "outputs": [],
   "source": []
  }
 ],
 "metadata": {
  "kernelspec": {
   "display_name": "Python 3 (ipykernel)",
   "language": "python",
   "name": "python3"
  },
  "language_info": {
   "codemirror_mode": {
    "name": "ipython",
    "version": 3
   },
   "file_extension": ".py",
   "mimetype": "text/x-python",
   "name": "python",
   "nbconvert_exporter": "python",
   "pygments_lexer": "ipython3",
   "version": "3.7.7"
  }
 },
 "nbformat": 4,
 "nbformat_minor": 5
}
